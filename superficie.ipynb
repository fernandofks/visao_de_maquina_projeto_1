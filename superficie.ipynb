{
 "cells": [
  {
   "cell_type": "code",
   "execution_count": 1,
   "id": "192050c8",
   "metadata": {},
   "outputs": [],
   "source": [
    "#Célula de imports\n",
    "import cv2\n",
    "import os\n",
    "import numpy as np\n",
    "import matplotlib.pyplot as plt\n",
    "from filtros_extras import *\n",
    "from fillHoles import fillHoles\n",
    "from sklearn.utils import shuffle\n"
   ]
  },
  {
   "cell_type": "code",
   "execution_count": 2,
   "id": "87e8dc29",
   "metadata": {},
   "outputs": [
    {
     "name": "stderr",
     "output_type": "stream",
     "text": [
      "2023-04-12 23:07:20.931932: I tensorflow/core/platform/cpu_feature_guard.cc:182] This TensorFlow binary is optimized to use available CPU instructions in performance-critical operations.\n",
      "To enable the following instructions: AVX2 FMA, in other operations, rebuild TensorFlow with the appropriate compiler flags.\n"
     ]
    }
   ],
   "source": [
    "from tensorflow import keras"
   ]
  },
  {
   "cell_type": "code",
   "execution_count": 3,
   "id": "438a4215",
   "metadata": {},
   "outputs": [],
   "source": [
    "path = \"NOK_superficie\"\n",
    "dir_list = os.listdir(path)\n",
    "conjunto_NOK=[]\n",
    "for k in range(0,len(dir_list)):\n",
    "    #encontrar uma maneira mais bonita de fazer a soma das strings abaixo\n",
    "    img_in = cv2.imread(path + \"/\" + str(dir_list[k]), cv2.IMREAD_COLOR)\n",
    "    #img_in = cv2.imread(\"OK\\Fig_OK_15.jpg\", cv2.IMREAD_COLOR)\n",
    "    if img_in is None:\n",
    "        print(\"File not found. Bye!\")\n",
    "        exit(0) #Essa linha \"crasha\" o notebook, caso ocorra reinicar o kernel\n",
    "    [B,G,R] = cv2.split(img_in)\n",
    "    conjunto_NOK.append(R)\n",
    "#     plt.figure(figsize=(10,5))\n",
    "#     plt.subplot (3,5,k+1)\n",
    "#     plt.imshow(R, cmap=\"gray\")\n",
    "conjunto_NOK = np.stack(conjunto_NOK, axis=0)\n",
    "\n",
    "plt.show()"
   ]
  },
  {
   "cell_type": "code",
   "execution_count": null,
   "id": "38f111d9",
   "metadata": {},
   "outputs": [],
   "source": []
  },
  {
   "cell_type": "code",
   "execution_count": 5,
   "id": "4c7488f8",
   "metadata": {},
   "outputs": [],
   "source": [
    "path = \"OK\"\n",
    "dir_list = os.listdir(path)\n",
    "conjunto_OK=[]\n",
    "for k in range(0,len(dir_list)):\n",
    "    #encontrar uma maneira mais bonita de fazer a soma das strings abaixo\n",
    "    img_in = cv2.imread(path + \"/\" + str(dir_list[k]), cv2.IMREAD_COLOR)\n",
    "    #img_in = cv2.imread(\"OK\\Fig_OK_15.jpg\", cv2.IMREAD_COLOR)\n",
    "    if img_in is None:\n",
    "        print(\"File not found. Bye!\")\n",
    "        exit(0) #Essa linha \"crasha\" o notebook, caso ocorra reinicar o kernel\n",
    "    [B,G,R] = cv2.split(img_in)\n",
    "    conjunto_OK.append(R)\n",
    "#     plt.figure(figsize=(10,5))\n",
    "#     plt.subplot (3,5,k+1)\n",
    "#     plt.imshow(R, cmap=\"gray\")\n",
    "conjunto_OK = np.stack(conjunto_OK, axis=0)\n",
    "\n",
    "plt.show()"
   ]
  },
  {
   "cell_type": "code",
   "execution_count": 6,
   "id": "bf6a86e2",
   "metadata": {},
   "outputs": [],
   "source": [
    "nok_labels = np.zeros(conjunto_NOK.shape[0])\n",
    "ok_labels = np.ones(conjunto_OK.shape[0])\n"
   ]
  },
  {
   "cell_type": "code",
   "execution_count": 7,
   "id": "ef2cca3c",
   "metadata": {},
   "outputs": [],
   "source": [
    "X = np.concatenate([conjunto_NOK, conjunto_OK], axis=0)\n",
    "y = np.concatenate([nok_labels, ok_labels], axis=0)"
   ]
  },
  {
   "cell_type": "code",
   "execution_count": 8,
   "id": "f39cbf1a",
   "metadata": {},
   "outputs": [],
   "source": [
    "X, y = shuffle(X, y, random_state=42)"
   ]
  },
  {
   "cell_type": "code",
   "execution_count": 9,
   "id": "f55af40b",
   "metadata": {},
   "outputs": [],
   "source": [
    "from sklearn.model_selection import train_test_split\n",
    "X_train, X_test_final, y_train, y_test_final = train_test_split(X, y, test_size=0.2, random_state=42)"
   ]
  },
  {
   "cell_type": "code",
   "execution_count": null,
   "id": "cb79f1fa",
   "metadata": {},
   "outputs": [],
   "source": []
  },
  {
   "cell_type": "code",
   "execution_count": null,
   "id": "53aa824f",
   "metadata": {},
   "outputs": [],
   "source": []
  },
  {
   "cell_type": "code",
   "execution_count": null,
   "id": "a46a32d7",
   "metadata": {},
   "outputs": [],
   "source": []
  },
  {
   "cell_type": "code",
   "execution_count": 15,
   "id": "03719d55",
   "metadata": {},
   "outputs": [
    {
     "name": "stdout",
     "output_type": "stream",
     "text": [
      "Mean score: 0.960, Standard deviation: 0.080\n"
     ]
    }
   ],
   "source": [
    "import numpy as np\n",
    "from sklearn.model_selection import KFold\n",
    "from keras.models import Sequential\n",
    "from keras.layers import Conv2D, MaxPooling2D, Flatten, Dense\n",
    "\n",
    "\n",
    "# Define the number of folds for cross-validation\n",
    "num_folds = 5\n",
    "\n",
    "# Define the cross-validation object\n",
    "kf = KFold(n_splits=num_folds)\n",
    "\n",
    "# Define the CNN model\n",
    "model = Sequential()\n",
    "model.add(Conv2D(32, kernel_size=(3, 3), activation='relu', input_shape=(468, 508, 1)))\n",
    "model.add(MaxPooling2D(pool_size=(2, 2)))\n",
    "model.add(Flatten())\n",
    "model.add(Dense(1, activation='sigmoid'))\n",
    "model.compile(loss='binary_crossentropy', optimizer='adam', metrics=['accuracy'])\n",
    "\n",
    "# Loop over the folds\n",
    "fold_scores = []\n",
    "for train_index, test_index in kf.split(X):\n",
    "    # Split the data into training and test sets\n",
    "    X_train, X_test = X[train_index], X[test_index]\n",
    "    y_train, y_test = y[train_index], y[test_index]\n",
    "\n",
    "    # Train the model on the training data\n",
    "    model.fit(X_train, y_train, epochs=10, batch_size=32, verbose=0)\n",
    "\n",
    "    # Evaluate the model on the test data\n",
    "    score = model.evaluate(X_test, y_test, verbose=0)[1]\n",
    "\n",
    "    # Add the score to the list of fold scores\n",
    "    fold_scores.append(score)\n",
    "\n",
    "# Compute the mean and standard deviation of the fold scores\n",
    "mean_score = np.mean(fold_scores)\n",
    "std_score = np.std(fold_scores)\n",
    "\n",
    "print(\"Mean score: {:.3f}, Standard deviation: {:.3f}\".format(mean_score, std_score))\n",
    "\n",
    "\n"
   ]
  },
  {
   "cell_type": "code",
   "execution_count": null,
   "id": "713b8258",
   "metadata": {},
   "outputs": [],
   "source": []
  },
  {
   "cell_type": "code",
   "execution_count": 12,
   "id": "ab69e334",
   "metadata": {},
   "outputs": [
    {
     "name": "stdout",
     "output_type": "stream",
     "text": [
      "Mean score: 0.750, Standard deviation: 0.316\n"
     ]
    }
   ],
   "source": [
    "from sklearn.model_selection import KFold\n",
    "from keras.models import Sequential\n",
    "from keras.layers import Conv2D, MaxPooling2D, Flatten, Dense\n",
    "\n",
    "\n",
    "# Define the number of folds for cross-validation\n",
    "num_folds = 5\n",
    "\n",
    "# Define the cross-validation object\n",
    "kf = KFold(n_splits=num_folds)\n",
    "\n",
    "# Define the CNN model\n",
    "model = Sequential()\n",
    "model.add(Conv2D(32, kernel_size=(3, 3), activation='relu', input_shape=(468, 508, 1)))\n",
    "model.add(MaxPooling2D(pool_size=(2, 2)))\n",
    "model.add(Flatten())\n",
    "model.add(Dense(1, activation='sigmoid'))\n",
    "model.compile(loss='binary_crossentropy', optimizer='adam', metrics=['accuracy'])\n",
    "\n",
    "# Split the data into training and test sets\n",
    "X_train, X_test, y_train, y_test = train_test_split(X, y, test_size=0.2, random_state=42)\n",
    "\n",
    "# Loop over the folds\n",
    "fold_scores = []\n",
    "for train_index, test_index in kf.split(X_train):\n",
    "    # Split the data into training and test sets for this fold\n",
    "    X_train_fold, X_test_fold = X_train[train_index], X_train[test_index]\n",
    "    y_train_fold, y_test_fold = y_train[train_index], y_train[test_index]\n",
    "\n",
    "    # Train the model on the training data for this fold\n",
    "    model.fit(X_train_fold, y_train_fold, epochs=10, batch_size=32, verbose=0)\n",
    "\n",
    "    # Evaluate the model on the test data for this fold\n",
    "    score = model.evaluate(X_test_fold, y_test_fold, verbose=0)[1]\n",
    "\n",
    "    # Add the score to the list of fold scores\n",
    "    fold_scores.append(score)\n",
    "\n",
    "# Compute the mean and standard deviation of the fold scores\n",
    "mean_score = np.mean(fold_scores)\n",
    "std_score = np.std(fold_scores)\n",
    "\n",
    "print(\"Mean score: {:.3f}, Standard deviation: {:.3f}\".format(mean_score, std_score))\n"
   ]
  },
  {
   "cell_type": "code",
   "execution_count": 18,
   "id": "de8e4f72",
   "metadata": {},
   "outputs": [
    {
     "name": "stdout",
     "output_type": "stream",
     "text": [
      "1/1 [==============================] - 0s 476ms/step\n"
     ]
    },
    {
     "data": {
      "text/plain": [
       "array([[1.],\n",
       "       [1.],\n",
       "       [0.],\n",
       "       [1.],\n",
       "       [1.],\n",
       "       [1.],\n",
       "       [0.],\n",
       "       [1.],\n",
       "       [0.],\n",
       "       [0.],\n",
       "       [1.],\n",
       "       [1.],\n",
       "       [0.],\n",
       "       [0.],\n",
       "       [1.],\n",
       "       [1.],\n",
       "       [1.],\n",
       "       [1.],\n",
       "       [0.],\n",
       "       [1.],\n",
       "       [1.],\n",
       "       [1.],\n",
       "       [0.]], dtype=float32)"
      ]
     },
     "execution_count": 18,
     "metadata": {},
     "output_type": "execute_result"
    }
   ],
   "source": [
    "model.predict(X)"
   ]
  },
  {
   "cell_type": "code",
   "execution_count": 19,
   "id": "fbd5fdf2",
   "metadata": {},
   "outputs": [
    {
     "data": {
      "text/plain": [
       "array([1., 1., 0., 1., 1., 1., 0., 1., 0., 0., 1., 1., 0., 0., 1., 1., 1.,\n",
       "       1., 0., 1., 1., 1., 0.])"
      ]
     },
     "execution_count": 19,
     "metadata": {},
     "output_type": "execute_result"
    }
   ],
   "source": [
    "y"
   ]
  },
  {
   "cell_type": "code",
   "execution_count": null,
   "id": "3e00ddec",
   "metadata": {},
   "outputs": [],
   "source": []
  }
 ],
 "metadata": {
  "kernelspec": {
   "display_name": "Python 3 (ipykernel)",
   "language": "python",
   "name": "python3"
  },
  "language_info": {
   "codemirror_mode": {
    "name": "ipython",
    "version": 3
   },
   "file_extension": ".py",
   "mimetype": "text/x-python",
   "name": "python",
   "nbconvert_exporter": "python",
   "pygments_lexer": "ipython3",
   "version": "3.8.3"
  }
 },
 "nbformat": 4,
 "nbformat_minor": 5
}
