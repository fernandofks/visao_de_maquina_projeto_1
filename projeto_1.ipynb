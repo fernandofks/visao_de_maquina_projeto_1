{
 "cells": [
  {
   "cell_type": "code",
   "execution_count": 1,
   "id": "ec38d40c",
   "metadata": {},
   "outputs": [],
   "source": [
    "import numpy as np\n",
    "import pandas as pd # para desenhar/plotar as tabelas informando os status das peças em cada teste\n",
    "import cv2\n",
    "\n",
    "from Filtro_Grayscale_custom import grayscale_especial"
   ]
  },
  {
   "cell_type": "code",
   "execution_count": 2,
   "id": "722f12f0",
   "metadata": {},
   "outputs": [
    {
     "name": "stdout",
     "output_type": "stream",
     "text": [
      "786.5085144042969\n"
     ]
    }
   ],
   "source": [
    "img=cv2.imread(\"img/Fig_OK_01.jpg\")\n",
    "\n",
    "gray=cv2.cvtColor(img,cv2.COLOR_BGR2GRAY)\n",
    "\n",
    "returns,thresh=cv2.threshold(gray,80,255,cv2.THRESH_BINARY)\n",
    "\n",
    "contours,hierachy=cv2.findContours(thresh,cv2.RETR_TREE,cv2.CHAIN_APPROX_SIMPLE)\n",
    "\n",
    "if len(contours) != 0:\n",
    "    for i in range(len(contours)):\n",
    "        if len(contours[i]) >= 800:\n",
    "#blob\n",
    "            cv2.drawContours(img,[contours[i]],-1,(0,255,0),2)\n",
    "            ellipse = cv2.fitEllipse(contours[i])\n",
    "            cv2.ellipse(img,ellipse, (0,0,255), 2)\n",
    "            cv2.imshow('RGB',img)\n",
    "            cv2.waitKey(0)\n",
    "            cv2.destroyAllWindows()\n",
    "            cv2.waitKey(1)\n",
    "            (x, y), (MA, ma), angle = ellipse\n",
    "            if MA/ma>0.9 and MA/ma<1.1:\n",
    "                print(MA + ma)\n",
    "        else:\n",
    "      # optional to \"delete\" the small contours\n",
    "            cv2.drawContours(thresh,contours,-1,(0,0,0),-1)\n",
    " \n",
    "\n"
   ]
  },
  {
   "cell_type": "code",
   "execution_count": 5,
   "id": "52681b3e",
   "metadata": {},
   "outputs": [
    {
     "ename": "ValueError",
     "evalue": "too many values to unpack (expected 2)",
     "output_type": "error",
     "traceback": [
      "\u001b[1;31m---------------------------------------------------------------------------\u001b[0m",
      "\u001b[1;31mValueError\u001b[0m                                Traceback (most recent call last)",
      "Cell \u001b[1;32mIn[5], line 4\u001b[0m\n\u001b[0;32m      1\u001b[0m img_nok\u001b[39m=\u001b[39mcv2\u001b[39m.\u001b[39mimread(\u001b[39m\"\u001b[39m\u001b[39mimg 2/Fig_NOK_01.jpg\u001b[39m\u001b[39m\"\u001b[39m,cv2\u001b[39m.\u001b[39mIMREAD_COLOR)\n\u001b[0;32m      3\u001b[0m \u001b[39m#gray=cv2.cvtColor(img_nok,cv2.COLOR_BGR2GRAY)\u001b[39;00m\n\u001b[1;32m----> 4\u001b[0m gray \u001b[39m=\u001b[39m grayscale_especial (img_nok,\u001b[39m0.05\u001b[39;49m,\u001b[39m0.20\u001b[39;49m,\u001b[39m0.75\u001b[39;49m)\n\u001b[0;32m      5\u001b[0m cv2\u001b[39m.\u001b[39mimshow(\u001b[39m\"\u001b[39m\u001b[39mtitle\u001b[39m\u001b[39m\"\u001b[39m,gray)\n\u001b[0;32m      6\u001b[0m cv2\u001b[39m.\u001b[39mwaitKey(\u001b[39m0\u001b[39m)\n",
      "File \u001b[1;32mc:\\Users\\giova\\OneDrive - Insper - Institudo de Ensino e Pesquisa\\Documents\\RoboVision\\visao_de_maquina_projeto_1\\Filtro_Grayscale_custom.py:7\u001b[0m, in \u001b[0;36mgrayscale_especial\u001b[1;34m(fig_in, const_red, const_green, const_blue)\u001b[0m\n\u001b[0;32m      4\u001b[0m \u001b[39mdef\u001b[39;00m \u001b[39mgrayscale_especial\u001b[39m (fig_in,const_red\u001b[39m=\u001b[39m\u001b[39m1.0\u001b[39m,const_green\u001b[39m=\u001b[39m\u001b[39m1.0\u001b[39m,const_blue\u001b[39m=\u001b[39m\u001b[39m1.0\u001b[39m):\n\u001b[0;32m      5\u001b[0m     [B,G,R] \u001b[39m=\u001b[39m cv2\u001b[39m.\u001b[39msplit(fig_in)\n\u001b[1;32m----> 7\u001b[0m     (height,width) \u001b[39m=\u001b[39m fig_in\u001b[39m.\u001b[39mshape\n\u001b[0;32m      8\u001b[0m     \u001b[39mprint\u001b[39m (\u001b[39m\"\u001b[39m\u001b[39mHeight = \u001b[39m\u001b[39m\"\u001b[39m, height)\n\u001b[0;32m      9\u001b[0m     \u001b[39mprint\u001b[39m (\u001b[39m\"\u001b[39m\u001b[39mWidth = \u001b[39m\u001b[39m\"\u001b[39m, width)\n",
      "\u001b[1;31mValueError\u001b[0m: too many values to unpack (expected 2)"
     ]
    }
   ],
   "source": [
    "img_nok=cv2.imread(\"img 2/Fig_NOK_01.jpg\",cv2.IMREAD_COLOR)\n",
    "\n",
    "#gray=cv2.cvtColor(img_nok,cv2.COLOR_BGR2GRAY)\n",
    "gray = grayscale_especial (img_nok,0.05,0.20,0.75)\n",
    "cv2.imshow(\"title\",gray)\n",
    "cv2.waitKey(0)\n",
    "\n",
    "img_bin = np.where(gray >97, 255, 0).astype(\"uint8\")\n",
    "returns,thresh=cv2.threshold(gray,97,255,cv2.THRESH_BINARY)\n",
    "\n",
    "cv2.imshow(\"title\",thresh)\n",
    "cv2.waitKey(0)\n",
    "\n",
    "\n",
    "contours,hierachy=cv2.findContours(img_bin,cv2.RETR_TREE,cv2.CHAIN_APPROX_SIMPLE)\n",
    "\n",
    "if len(contours) != 0:\n",
    "    for i in range(len(contours)):\n",
    "        if cv2.isContourConvex(contours[i]):\n",
    "            \n",
    "            # Draw the contour on the original image in green color\n",
    "            cv2.drawContours(img_nok,[contours[i]],-1,(0,255,0),1)\n",
    "            \n",
    "            # Draw a circle at the centroid\n",
    "            #cv2.circle(img_nok, (cx, cy), 5, (0, 0, 255), -1)\n",
    "            \n",
    "            # Compute the bounding box of the contour\n",
    "            x,y,w,h = cv2.boundingRect(contours[i])\n",
    "\n",
    "            # Draw the bounding box on the original image in blue color\n",
    "            cv2.rectangle(img_nok,(x,y),(x+w,y+h),(255,0,0),2)\n",
    "        \n",
    "        else:\n",
    "      # optional to \"delete\" the small contours\n",
    "            cv2.drawContours(thresh,contours,-1,(0,0,0),-1)\n",
    "\n",
    "cv2.imshow('Convexity Detection', img_nok)\n",
    "cv2.waitKey(0)\n",
    "cv2.destroyAllWindows()"
   ]
  },
  {
   "cell_type": "code",
   "execution_count": null,
   "id": "0058364a",
   "metadata": {},
   "outputs": [],
   "source": [
    "#interpretação das rubricas\n",
    "\n",
    "#tamanho é o diametro\n",
    "#forma é a relação a/b dos raios das elipses\n",
    "#borda é as convexidade\n",
    "\n",
    "# FIG NOK15 é uma bem dificil de detectar o erro"
   ]
  }
 ],
 "metadata": {
  "kernelspec": {
   "display_name": "Python 3 (ipykernel)",
   "language": "python",
   "name": "python3"
  },
  "language_info": {
   "codemirror_mode": {
    "name": "ipython",
    "version": 3
   },
   "file_extension": ".py",
   "mimetype": "text/x-python",
   "name": "python",
   "nbconvert_exporter": "python",
   "pygments_lexer": "ipython3",
   "version": "3.11.2"
  }
 },
 "nbformat": 4,
 "nbformat_minor": 5
}
