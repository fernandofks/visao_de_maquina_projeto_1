{
 "cells": [
  {
   "cell_type": "code",
   "execution_count": 2,
   "id": "ec38d40c",
   "metadata": {},
   "outputs": [],
   "source": [
    "import numpy as np\n",
    "import cv2"
   ]
  },
  {
   "cell_type": "code",
   "execution_count": 3,
   "id": "722f12f0",
   "metadata": {},
   "outputs": [
    {
     "name": "stdout",
     "output_type": "stream",
     "text": [
      "786.5085144042969\n"
     ]
    }
   ],
   "source": [
    "img=cv2.imread(\"img/Fig_OK_01.jpg\")\n",
    "\n",
    "gray=cv2.cvtColor(img,cv2.COLOR_BGR2GRAY)\n",
    "returns,thresh=cv2.threshold(gray,80,255,cv2.THRESH_BINARY)\n",
    "\n",
    "contours,hierachy=cv2.findContours(thresh,cv2.RETR_TREE,cv2.CHAIN_APPROX_SIMPLE)\n",
    "\n",
    "if len(contours) != 0:\n",
    "    for i in range(len(contours)):\n",
    "        if len(contours[i]) >= 800:\n",
    "#blob\n",
    "            cv2.drawContours(img,[contours[i]],-1,(0,255,0),2)\n",
    "            ellipse = cv2.fitEllipse(contours[i])\n",
    "            cv2.ellipse(img,ellipse, (0,0,255), 2)\n",
    "            cv2.imshow('RGB',img)\n",
    "            cv2.waitKey(0)\n",
    "            cv2.destroyAllWindows()\n",
    "            cv2.waitKey(1)\n",
    "            (x, y), (MA, ma), angle = ellipse\n",
    "            if MA/ma>0.9 and MA/ma<1.1:\n",
    "                print(MA + ma)\n",
    "        else:\n",
    "      # optional to \"delete\" the small contours\n",
    "            cv2.drawContours(thresh,contours,-1,(0,0,0),-1)\n",
    " \n",
    "\n"
   ]
  },
  {
   "cell_type": "code",
   "execution_count": null,
   "id": "52681b3e",
   "metadata": {},
   "outputs": [],
   "source": []
  }
 ],
 "metadata": {
  "kernelspec": {
   "display_name": "Python 3 (ipykernel)",
   "language": "python",
   "name": "python3"
  },
  "language_info": {
   "codemirror_mode": {
    "name": "ipython",
    "version": 3
   },
   "file_extension": ".py",
   "mimetype": "text/x-python",
   "name": "python",
   "nbconvert_exporter": "python",
   "pygments_lexer": "ipython3",
   "version": "3.8.3"
  }
 },
 "nbformat": 4,
 "nbformat_minor": 5
}
