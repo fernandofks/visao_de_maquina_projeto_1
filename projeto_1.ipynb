{
 "cells": [
  {
   "cell_type": "markdown",
   "id": "ec38d40c",
   "metadata": {},
   "source": [
    "\n",
    "# Projeto 1 Visão de máquina\n",
    "\n",
    "## Alunos: Fernando Sakabe & Giovanni Rozatti"
   ]
  },
  {
   "cell_type": "code",
   "execution_count": 2,
   "id": "8225fbb0",
   "metadata": {},
   "outputs": [],
   "source": [
    "#Célula de imports\n",
    "import cv2\n",
    "import os\n",
    "import numpy as np\n",
    "import matplotlib.pyplot as plt\n",
    "from filtros_extras import *"
   ]
  },
  {
   "cell_type": "code",
   "execution_count": 3,
   "id": "722f12f0",
   "metadata": {},
   "outputs": [
    {
     "name": "stdout",
     "output_type": "stream",
     "text": [
      "File not found. Bye!\n"
     ]
    },
    {
     "name": "stderr",
     "output_type": "stream",
     "text": [
      "[ WARN:0@0.414] global loadsave.cpp:244 findDecoder imread_('./OK\\Fig_OK_01.jpg'): can't open/read file: check file path/integrity\n"
     ]
    },
    {
     "ename": "error",
     "evalue": "OpenCV(4.7.0) /Users/runner/work/opencv-python/opencv-python/opencv/modules/imgproc/src/color.cpp:182: error: (-215:Assertion failed) !_src.empty() in function 'cvtColor'\n",
     "output_type": "error",
     "traceback": [
      "\u001b[0;31m---------------------------------------------------------------------------\u001b[0m",
      "\u001b[0;31merror\u001b[0m                                     Traceback (most recent call last)",
      "Cell \u001b[0;32mIn[3], line 6\u001b[0m\n\u001b[1;32m      3\u001b[0m     \u001b[38;5;28mprint\u001b[39m(\u001b[38;5;124m\"\u001b[39m\u001b[38;5;124mFile not found. Bye!\u001b[39m\u001b[38;5;124m\"\u001b[39m)\n\u001b[1;32m      4\u001b[0m     exit(\u001b[38;5;241m0\u001b[39m) \u001b[38;5;66;03m#Essa linha \"crasha\" o notebook, caso ocorra reinicar o kernel\u001b[39;00m\n\u001b[0;32m----> 6\u001b[0m gray\u001b[38;5;241m=\u001b[39m\u001b[43mcv2\u001b[49m\u001b[38;5;241;43m.\u001b[39;49m\u001b[43mcvtColor\u001b[49m\u001b[43m(\u001b[49m\u001b[43mimg_in\u001b[49m\u001b[43m,\u001b[49m\u001b[43mcv2\u001b[49m\u001b[38;5;241;43m.\u001b[39;49m\u001b[43mCOLOR_BGR2GRAY\u001b[49m\u001b[43m)\u001b[49m\n\u001b[1;32m      8\u001b[0m returns,thresh\u001b[38;5;241m=\u001b[39mcv2\u001b[38;5;241m.\u001b[39mthreshold(gray,\u001b[38;5;241m80\u001b[39m,\u001b[38;5;241m255\u001b[39m,cv2\u001b[38;5;241m.\u001b[39mTHRESH_BINARY)\n\u001b[1;32m     10\u001b[0m contours,hierachy\u001b[38;5;241m=\u001b[39mcv2\u001b[38;5;241m.\u001b[39mfindContours(thresh,cv2\u001b[38;5;241m.\u001b[39mRETR_TREE,cv2\u001b[38;5;241m.\u001b[39mCHAIN_APPROX_SIMPLE)\n",
      "\u001b[0;31merror\u001b[0m: OpenCV(4.7.0) /Users/runner/work/opencv-python/opencv-python/opencv/modules/imgproc/src/color.cpp:182: error: (-215:Assertion failed) !_src.empty() in function 'cvtColor'\n"
     ]
    }
   ],
   "source": [
    "img_in=cv2.imread(\"OKFig_OK_01.jpg\")\n",
    "if img_in is None:\n",
    "    print(\"File not found. Bye!\")\n",
    "    exit(0) #Essa linha \"crasha\" o notebook, caso ocorra reinicar o kernel\n",
    "\n",
    "gray=cv2.cvtColor(img_in,cv2.COLOR_BGR2GRAY)\n",
    "\n",
    "returns,thresh=cv2.threshold(gray,80,255,cv2.THRESH_BINARY)\n",
    "\n",
    "contours,hierachy=cv2.findContours(thresh,cv2.RETR_TREE,cv2.CHAIN_APPROX_SIMPLE)\n",
    "\n",
    "if len(contours) != 0:\n",
    "    for i in range(len(contours)):\n",
    "        if len(contours[i]) >= 800:\n",
    "#blob\n",
    "            cv2.drawContours(img_in,[contours[i]],-1,(0,255,0),3)\n",
    "            ellipse = cv2.fitEllipse(contours[i])\n",
    "            cv2.ellipse(img_in,ellipse, (0,0,255), 2)\n",
    "            cv2.imshow('RGB',img_in)\n",
    "            cv2.waitKey(0)\n",
    "            cv2.destroyAllWindows()\n",
    "            cv2.waitKey(1)\n",
    "            (x, y), (MA, ma), angle = ellipse\n",
    "            if MA/ma>0.9 and MA/ma<1.1:\n",
    "                print(MA + ma)\n",
    "        else:\n",
    "      # optional to \"delete\" the small contours\n",
    "            cv2.drawContours(thresh,contours,-1,(0,0,0),-1)\n",
    " \n",
    "\n"
   ]
  },
  {
   "cell_type": "code",
   "execution_count": null,
   "id": "52681b3e",
   "metadata": {},
   "outputs": [],
   "source": [
    "#interpretação das rubricas\n",
    "\n",
    "#tamanho é o diametro\n",
    "#forma é a relação a/b dos raios das elipses\n",
    "#borda é as convexidade\n",
    "\n",
    "# FIG NOK15 é uma bem dificil de detectar o erro\n",
    "\n",
    "#Achar o erro do contorno:\n",
    "#a partir da posição central da circunferencia comparar os pontos detectados do contorno com os pontos da circunferencia teórica"
   ]
  },
  {
   "cell_type": "code",
   "execution_count": null,
   "id": "0058364a",
   "metadata": {},
   "outputs": [],
   "source": []
  },
  {
   "cell_type": "code",
   "execution_count": null,
   "id": "5f398f49",
   "metadata": {},
   "outputs": [],
   "source": []
  }
 ],
 "metadata": {
  "kernelspec": {
   "display_name": "Python 3 (ipykernel)",
   "language": "python",
   "name": "python3"
  },
  "language_info": {
   "codemirror_mode": {
    "name": "ipython",
    "version": 3
   },
   "file_extension": ".py",
   "mimetype": "text/x-python",
   "name": "python",
   "nbconvert_exporter": "python",
   "pygments_lexer": "ipython3",
   "version": "3.8.3"
  }
 },
 "nbformat": 4,
 "nbformat_minor": 5
}
