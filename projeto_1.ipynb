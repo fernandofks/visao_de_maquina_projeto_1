{
 "cells": [
  {
   "attachments": {},
   "cell_type": "markdown",
   "id": "ec38d40c",
   "metadata": {},
   "source": [
    "\n",
    "# Projeto 1 Visão de máquina\n",
    "\n",
    "## Alunos: Fernando Sakabe & Giovanni Rozatti"
   ]
  },
  {
   "cell_type": "code",
   "execution_count": 21,
   "id": "8225fbb0",
   "metadata": {},
   "outputs": [],
   "source": [
    "#Célula de imports\n",
    "import cv2\n",
    "import os\n",
    " \n",
    "import numpy as np\n",
    "import matplotlib.pyplot as plt\n",
    "\n",
    "import pandas as pd # para desenhar/plotar as tabelas informando os status das peças em cada teste\n",
    "\n",
    "from filtros_extras import *"
   ]
  },
  {
   "cell_type": "code",
   "execution_count": 23,
   "id": "722f12f0",
   "metadata": {},
   "outputs": [
    {
     "name": "stdout",
     "output_type": "stream",
     "text": [
      "786.5085144042969\n"
     ]
    }
   ],
   "source": [
    "img_in=cv2.imread(\"OK\\Fig_OK_01.jpg\")\n",
    "if img_in is None:\n",
    "    print(\"File not found. Bye!\")\n",
    "    exit(0) #Essa linha \"crasha\" o notebook, caso ocorra reinicar o kernel\n",
    "\n",
    "gray=cv2.cvtColor(img_in,cv2.COLOR_BGR2GRAY)\n",
    "\n",
    "returns,thresh=cv2.threshold(gray,80,255,cv2.THRESH_BINARY)\n",
    "\n",
    "contours,hierachy=cv2.findContours(thresh,cv2.RETR_TREE,cv2.CHAIN_APPROX_SIMPLE)\n",
    "\n",
    "if len(contours) != 0:\n",
    "    for i in range(len(contours)):\n",
    "        if len(contours[i]) >= 800:\n",
    "#blob\n",
    "            cv2.drawContours(img_in,[contours[i]],-1,(0,255,0),2)\n",
    "            ellipse = cv2.fitEllipse(contours[i])\n",
    "            cv2.ellipse(img_in,ellipse, (0,0,255), 2)\n",
    "            cv2.imshow('RGB',img_in)\n",
    "            cv2.waitKey(0)\n",
    "            cv2.destroyAllWindows()\n",
    "            cv2.waitKey(1)\n",
    "            (x, y), (MA, ma), angle = ellipse\n",
    "            if MA/ma>0.9 and MA/ma<1.1:\n",
    "                print(MA + ma)\n",
    "        else:\n",
    "      # optional to \"delete\" the small contours\n",
    "            cv2.drawContours(thresh,contours,-1,(0,0,0),-1)\n",
    " \n",
    "\n"
   ]
  },
  {
   "cell_type": "code",
   "execution_count": 19,
   "id": "52681b3e",
   "metadata": {},
   "outputs": [
    {
     "name": "stdout",
     "output_type": "stream",
     "text": [
      "Height =  468\n",
      "Width =  508\n"
     ]
    }
   ],
   "source": [
    "img_in=cv2.imread(\"NOK_borda\\Fig_NOK_12.jpg\",cv2.IMREAD_COLOR)\n",
    "if img_in is None:\n",
    "    print(\"File not found. Bye!\")\n",
    "    exit(0) #Essa linha \"crasha\" o notebook, caso ocorra reinicar o kernel\n",
    "    \n",
    "#gray=cv2.cvtColor(img_in,cv2.COLOR_BGR2GRAY)\n",
    "gray = grayscale_especial (img_in,0.02,0.21,0.77)\n",
    "gray_nit = filtro_nitidez(gray)\n",
    "\n",
    "returns,thresh=cv2.threshold(gray,97,255,cv2.THRESH_BINARY)\n",
    "thresh_opened = open(thresh)\n",
    "\n",
    "contours,hierachy=cv2.findContours(thresh_opened,cv2.RETR_TREE,cv2.CHAIN_APPROX_NONE)\n",
    "\n",
    "if len(contours) != 0:\n",
    "    for i in range(len(contours)):\n",
    "        if len(contours[i]) >= 800:\n",
    "            # Draw the contour on the original image in green color\n",
    "            cv2.drawContours(img_in,[contours[i]],-1,(0,255,0),2)\n",
    "            \n",
    "            # Draw a circle at the centroid\n",
    "            #cv2.circle(img_in, (cx, cy), 5, (0, 0, 255), -1)\n",
    "            \n",
    "            # Compute the bounding box of the contour\n",
    "            x,y,w,h = cv2.boundingRect(contours[i])\n",
    "\n",
    "            # Draw the bounding box on the original image in blue color\n",
    "            cv2.rectangle(img_in,(x,y),(x+w,y+h),(255,0,0),2)\n",
    "        else:\n",
    "      # optional to \"delete\" the small contours\n",
    "            cv2.drawContours(thresh,contours,-1,(0,0,0),-1)\n",
    "\n",
    "\n",
    "cv2.imshow('Convexity Detection', img_in)\n",
    "cv2.waitKey(0)\n",
    "cv2.destroyAllWindows()"
   ]
  },
  {
   "cell_type": "code",
   "execution_count": 20,
   "id": "0058364a",
   "metadata": {},
   "outputs": [],
   "source": [
    "#interpretação das rubricas\n",
    "\n",
    "#tamanho é o diametro\n",
    "#forma é a relação a/b dos raios das elipses\n",
    "#borda é as convexidade\n",
    "\n",
    "# FIG NOK15 é uma bem dificil de detectar o erro\n",
    "\n",
    "#Achar o erro do contorno:\n",
    "#a partir da posição central da circunferencia comparar os pontos detectados do contorno com os pontos da circunferencia teórica"
   ]
  }
 ],
 "metadata": {
  "kernelspec": {
   "display_name": "Python 3 (ipykernel)",
   "language": "python",
   "name": "python3"
  },
  "language_info": {
   "codemirror_mode": {
    "name": "ipython",
    "version": 3
   },
   "file_extension": ".py",
   "mimetype": "text/x-python",
   "name": "python",
   "nbconvert_exporter": "python",
   "pygments_lexer": "ipython3",
   "version": "3.11.2"
  }
 },
 "nbformat": 4,
 "nbformat_minor": 5
}
