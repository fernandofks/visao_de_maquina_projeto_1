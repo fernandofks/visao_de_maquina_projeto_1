{
 "cells": [
  {
   "cell_type": "code",
   "execution_count": 1,
   "id": "1396778e",
   "metadata": {},
   "outputs": [],
   "source": [
    "import numpy as np\n",
    "import cv2\n"
   ]
  },
  {
   "cell_type": "code",
   "execution_count": 2,
   "id": "b9db9db9",
   "metadata": {},
   "outputs": [],
   "source": [
    "#Ler imagem\n",
    "flag1 = cv2.IMREAD_COLOR\n",
    "#Load a color image. It is the default flag. Alternatively, we can pass integer value 1 for this flag.\n",
    "flag0 = cv2.IMREAD_GRAYSCALE\n",
    "#Load an image in grayscale mode. Alternatively, we can pass integer value 0 for this flag\n",
    "img_gray = cv2.imread(\"img/Fig_OK_01.jpg\", flag0) #or simply (path, 0)\n",
    "#Ler forma da figura (altura e largura)\n",
    "(h, w) = img_gray.shape\n"
   ]
  },
  {
   "cell_type": "code",
   "execution_count": 3,
   "id": "f4b7be6a",
   "metadata": {},
   "outputs": [
    {
     "data": {
      "text/plain": [
       "-1"
      ]
     },
     "execution_count": 3,
     "metadata": {},
     "output_type": "execute_result"
    }
   ],
   "source": [
    "cv2.imshow('graycsale image',img_gray)\n",
    "cv2.waitKey(0)\n",
    "cv2.destroyAllWindows()\n",
    "cv2.waitKey(1)"
   ]
  },
  {
   "cell_type": "code",
   "execution_count": 4,
   "id": "bcc26f7b",
   "metadata": {},
   "outputs": [],
   "source": [
    "circulo=np.where(img_gray>150,255,0).astype(np.uint8)"
   ]
  },
  {
   "cell_type": "code",
   "execution_count": 5,
   "id": "3c5d4aa5",
   "metadata": {},
   "outputs": [
    {
     "data": {
      "text/plain": [
       "-1"
      ]
     },
     "execution_count": 5,
     "metadata": {},
     "output_type": "execute_result"
    }
   ],
   "source": [
    "cv2.imshow('graycsale circle',circulo)\n",
    "cv2.waitKey(0)\n",
    "cv2.destroyAllWindows()\n",
    "cv2.waitKey(1)"
   ]
  },
  {
   "cell_type": "code",
   "execution_count": null,
   "id": "c8769f15",
   "metadata": {},
   "outputs": [],
   "source": []
  },
  {
   "cell_type": "code",
   "execution_count": null,
   "id": "f349278c",
   "metadata": {},
   "outputs": [],
   "source": []
  }
 ],
 "metadata": {
  "kernelspec": {
   "display_name": "Python 3 (ipykernel)",
   "language": "python",
   "name": "python3"
  },
  "language_info": {
   "codemirror_mode": {
    "name": "ipython",
    "version": 3
   },
   "file_extension": ".py",
   "mimetype": "text/x-python",
   "name": "python",
   "nbconvert_exporter": "python",
   "pygments_lexer": "ipython3",
   "version": "3.8.3"
  }
 },
 "nbformat": 4,
 "nbformat_minor": 5
}
